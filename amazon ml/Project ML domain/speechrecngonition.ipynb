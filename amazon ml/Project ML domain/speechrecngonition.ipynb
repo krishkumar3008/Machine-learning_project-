{
 "cells": [
  {
   "cell_type": "code",
   "execution_count": 3,
   "metadata": {},
   "outputs": [
    {
     "name": "stdout",
     "output_type": "stream",
     "text": [
      "Adjusting for ambient noise... Please wait.\n",
      "Listening... Speak now!\n",
      "Processing your speech...\n",
      "You said: hello\n"
     ]
    }
   ],
   "source": [
    "import speech_recognition as sr\n",
    "\n",
    "def recognize_speech_from_microphone():\n",
    "    # Initialize the recognizer\n",
    "    recognizer = sr.Recognizer()\n",
    "\n",
    "    # Use the microphone as the audio source\n",
    "    with sr.Microphone() as source:\n",
    "        print(\"Adjusting for ambient noise... Please wait.\")\n",
    "        recognizer.adjust_for_ambient_noise(source, duration=1)\n",
    "        print(\"Listening... Speak now!\")\n",
    "\n",
    "        try:\n",
    "            # Capture the audio\n",
    "            audio = recognizer.listen(source, timeout=5, phrase_time_limit=10)\n",
    "            print(\"Processing your speech...\")\n",
    "\n",
    "            # Recognize the speech using Google Web Speech API\n",
    "            text = recognizer.recognize_google(audio)\n",
    "            print(f\"You said: {text}\")\n",
    "\n",
    "        except sr.UnknownValueError:\n",
    "            print(\"Sorry, I could not understand the audio.\")\n",
    "        except sr.RequestError as e:\n",
    "            print(f\"Could not request results; {e}\")\n",
    "        except Exception as e:\n",
    "            print(f\"An error occurred: {e}\")\n",
    "\n",
    "# Call the function\n",
    "if __name__ == \"__main__\":\n",
    "    recognize_speech_from_microphone()\n"
   ]
  },
  {
   "cell_type": "markdown",
   "metadata": {},
   "source": [
    "Notes:\n",
    "Language Codes:\n",
    "\n",
    "English (US): en-US\n",
    "Hindi: hi-IN\n",
    "Spanish (Spain): es-ES\n",
    "French: fr-FR\n",
    "Chinese (Mandarin): zh-CN\n",
    "For a complete list of supported languages, refer to Google's supported languages for speech recognition.\n",
    "How to Use:\n",
    "\n",
    "Run the script.\n",
    "Enter the desired language code when prompted.\n",
    "Speak into the microphone in the specified language.\n",
    "Language-Specific Adjustments: Ensure the pronunciation and accent match the selected language for better recognition accuracy."
   ]
  },
  {
   "cell_type": "code",
   "execution_count": 2,
   "metadata": {},
   "outputs": [
    {
     "name": "stdout",
     "output_type": "stream",
     "text": [
      "Adjusting for ambient noise... Please wait.\n",
      "Listening... Speak now in en-US!\n",
      "Processing your speech...\n",
      "You said (in en-US): namaste\n"
     ]
    }
   ],
   "source": [
    "import speech_recognition as sr\n",
    "\n",
    "def recognize_speech_from_microphone(language=\"en-US\"):\n",
    "    \"\"\"\n",
    "    Recognize speech from the microphone and convert it to text in the specified language.\n",
    "\n",
    "    Args:\n",
    "        language (str): Language code for recognition (default is English: \"en-US\").\n",
    "    \"\"\"\n",
    "    # Initialize the recognizer\n",
    "    recognizer = sr.Recognizer()\n",
    "\n",
    "    # Use the microphone as the audio source\n",
    "    with sr.Microphone() as source:\n",
    "        print(\"Adjusting for ambient noise... Please wait.\")\n",
    "        recognizer.adjust_for_ambient_noise(source, duration=1)\n",
    "        print(f\"Listening... Speak now in {language}!\")\n",
    "\n",
    "        try:\n",
    "            # Capture the audio\n",
    "            audio = recognizer.listen(source, timeout=5, phrase_time_limit=10)\n",
    "            print(\"Processing your speech...\")\n",
    "\n",
    "            # Recognize the speech using Google Web Speech API\n",
    "            text = recognizer.recognize_google(audio, language=language)\n",
    "            print(f\"You said (in {language}): {text}\")\n",
    "\n",
    "        except sr.UnknownValueError:\n",
    "            print(\"Sorry, I could not understand the audio.\")\n",
    "        except sr.RequestError as e:\n",
    "            print(f\"Could not request results; {e}\")\n",
    "        except Exception as e:\n",
    "            print(f\"An error occurred: {e}\")\n",
    "\n",
    "if __name__ == \"__main__\":\n",
    "    # Set the desired language code (e.g., \"hi-IN\" for Hindi, \"es-ES\" for Spanish)\n",
    "    language_code = input(\"Enter the language code (e.g., 'en-US' for English, 'hi-IN' for Hindi): \")\n",
    "    recognize_speech_from_microphone(language=language_code)\n"
   ]
  },
  {
   "cell_type": "markdown",
   "metadata": {},
   "source": [
    "//tranlators"
   ]
  },
  {
   "cell_type": "code",
   "execution_count": null,
   "metadata": {},
   "outputs": [],
   "source": [
    "import speech_recognition as sr\n",
    "from googletrans import Translator\n",
    "import pyttsx3\n",
    "\n",
    "def translate_and_speak(source_language=\"en-US\", target_language=\"es\"):\n",
    "    \"\"\"\n",
    "    Translate speech from the source language to the target language and speak the translation.\n",
    "\n",
    "    Args:\n",
    "        source_language (str): Source language code (default: English US, \"en-US\").\n",
    "        target_language (str): Target language code (default: Spanish, \"es\").\n",
    "    \"\"\"\n",
    "    # Initialize the recognizer, translator, and text-to-speech engine\n",
    "    recognizer = sr.Recognizer()\n",
    "    translator = Translator()\n",
    "    tts_engine = pyttsx3.init()\n",
    "\n",
    "    # Use the microphone as the audio source\n",
    "    with sr.Microphone() as source:\n",
    "        print(\"Adjusting for ambient noise... Please wait.\")\n",
    "        recognizer.adjust_for_ambient_noise(source, duration=1)\n",
    "        print(f\"Listening for speech in {source_language}... Speak now!\")\n",
    "\n",
    "        try:\n",
    "            # Capture the audio\n",
    "            audio = recognizer.listen(source, timeout=5, phrase_time_limit=10)\n",
    "            print(\"Processing your speech...\")\n",
    "\n",
    "            # Recognize the speech in the source language\n",
    "            text = recognizer.recognize_google(audio, language=source_language)\n",
    "            print(f\"You said (in {source_language}): {text}\")\n",
    "\n",
    "            # Translate the text into the target language\n",
    "            translated_text = translator.translate(text, src=source_language.split('-')[0], dest=target_language).text\n",
    "            print(f\"Translated to {target_language}: {translated_text}\")\n",
    "\n",
    "            # Speak the translated text\n",
    "            tts_engine.setProperty(\"voice\", tts_engine.getProperty(\"voices\")[0].id)  # Adjust voice if needed\n",
    "            tts_engine.say(translated_text)\n",
    "            tts_engine.runAndWait()\n",
    "\n",
    "        except sr.UnknownValueError:\n",
    "            print(\"Sorry, I could not understand the audio.\")\n",
    "        except sr.RequestError as e:\n",
    "            print(f\"Could not request results; {e}\")\n",
    "        except Exception as e:\n",
    "            print(f\"An error occurred: {e}\")\n",
    "\n",
    "if __name__ == \"__main__\":\n",
    "    source_lang = input(\"Enter the source language code (e.g., 'en-US' for English): \")\n",
    "    target_lang = input(\"Enter the target language code (e.g., 'es' for Spanish): \")\n",
    "    translate_and_speak(source_language=source_lang, target_language=target_lang)\n"
   ]
  },
  {
   "cell_type": "code",
   "execution_count": null,
   "metadata": {},
   "outputs": [],
   "source": []
  }
 ],
 "metadata": {
  "kernelspec": {
   "display_name": "Python 3",
   "language": "python",
   "name": "python3"
  },
  "language_info": {
   "codemirror_mode": {
    "name": "ipython",
    "version": 3
   },
   "file_extension": ".py",
   "mimetype": "text/x-python",
   "name": "python",
   "nbconvert_exporter": "python",
   "pygments_lexer": "ipython3",
   "version": "3.12.5"
  }
 },
 "nbformat": 4,
 "nbformat_minor": 2
}
